{
 "cells": [
  {
   "cell_type": "markdown",
   "id": "6860d43e-32f8-495a-a951-e879db628aab",
   "metadata": {},
   "source": [
    "Python Basic Variables"
   ]
  },
  {
   "cell_type": "code",
   "execution_count": 1,
   "id": "a7372fed-6b10-482f-95dc-5930e10e18dd",
   "metadata": {},
   "outputs": [],
   "source": [
    "# Question 1"
   ]
  },
  {
   "cell_type": "code",
   "execution_count": 2,
   "id": "f3acfc04-ec48-457b-b935-060240831a40",
   "metadata": {},
   "outputs": [
    {
     "name": "stdout",
     "output_type": "stream",
     "text": [
      "Before swapping x, y are -  5 10\n",
      "After swapping x, y are -  10 5\n"
     ]
    }
   ],
   "source": [
    "# solution 1 assigning method\n",
    "x = 5\n",
    "y = 10\n",
    "print(\"Before swapping x, y are - \", x, y)\n",
    "y, x = x, y\n",
    "print(\"After swapping x, y are - \", x, y)"
   ]
  },
  {
   "cell_type": "code",
   "execution_count": 3,
   "id": "2d1986dd-2653-4060-9e39-1551b5e1c564",
   "metadata": {},
   "outputs": [
    {
     "name": "stdout",
     "output_type": "stream",
     "text": [
      "Before swapping x, y are -  7 11\n",
      "After swapping x, y are -  11 7\n"
     ]
    }
   ],
   "source": [
    "# solution 2 with the help of maths equations\n",
    "x, y = 7, 11\n",
    "print(\"Before swapping x, y are - \", x, y)\n",
    "x = x + y\n",
    "y = x -y\n",
    "x = x - y\n",
    "print(\"After swapping x, y are - \", x, y)"
   ]
  },
  {
   "cell_type": "code",
   "execution_count": 4,
   "id": "d642d396-ce22-4522-a7e1-1942e2343095",
   "metadata": {},
   "outputs": [],
   "source": [
    "# Question 2"
   ]
  },
  {
   "cell_type": "code",
   "execution_count": 30,
   "id": "e6e57c57-bed9-4efd-8752-494e67a85d17",
   "metadata": {},
   "outputs": [
    {
     "name": "stdin",
     "output_type": "stream",
     "text": [
      "Enter the length of rectangle (number)-  12.3\n",
      "Enter the breadth of rectangle (number)-  34.5\n"
     ]
    },
    {
     "name": "stdout",
     "output_type": "stream",
     "text": [
      "length of rectangle is -  12.3\n",
      "breadth of rectangle is -  34.5\n",
      "Area of rectangle is -  424.35\n"
     ]
    }
   ],
   "source": [
    "# take length and width as inputs from user\n",
    "# converting input into float as user can input int or float\n",
    "length = float(input(\"Enter the length of rectangle (number)- \"))\n",
    "breadth = float(input(\"Enter the breadth of rectangle (number)- \"))\n",
    "area_of_rectangle = length * breadth\n",
    "print(\"length of rectangle is - \", length)\n",
    "print(\"breadth of rectangle is - \", breadth)\n",
    "print(\"Area of rectangle is - \", area_of_rectangle)"
   ]
  },
  {
   "cell_type": "code",
   "execution_count": 6,
   "id": "700a5d96-1581-4411-998f-8fcb678f552d",
   "metadata": {},
   "outputs": [],
   "source": [
    "# Question 3"
   ]
  },
  {
   "cell_type": "code",
   "execution_count": 33,
   "id": "f98bba67-ccfe-4972-a34c-7017942de08b",
   "metadata": {},
   "outputs": [
    {
     "name": "stdin",
     "output_type": "stream",
     "text": [
      "Enter a temperature in celcius -  23.5\n"
     ]
    },
    {
     "name": "stdout",
     "output_type": "stream",
     "text": [
      "Temperature in celcius is -  23.5\n",
      "Temperature in Fahrenheit is -  74.3\n"
     ]
    }
   ],
   "source": [
    "# take temperature in celcius as input from user\n",
    "temp_celcius = float(input(\"Enter a temperature in celcius - \"))\n",
    "temp_farh = (temp_celcius * 9/5) + 32\n",
    "print(\"Temperature in celcius is - \", temp_celcius)\n",
    "print(\"Temperature in Fahrenheit is - \", temp_farh)"
   ]
  },
  {
   "cell_type": "markdown",
   "id": "d2d08b36-c34f-4139-a818-5b69203a439e",
   "metadata": {},
   "source": [
    "String based questions"
   ]
  },
  {
   "cell_type": "code",
   "execution_count": null,
   "id": "9a9ca580-598d-44b4-9d28-af29aea1725f",
   "metadata": {},
   "outputs": [],
   "source": [
    "# Question 1"
   ]
  },
  {
   "cell_type": "code",
   "execution_count": 35,
   "id": "dcd9e9b8-38c3-4bfd-b48a-325e22c4f9f1",
   "metadata": {},
   "outputs": [
    {
     "name": "stdin",
     "output_type": "stream",
     "text": [
      "Enter a string -  gunwant\n"
     ]
    },
    {
     "name": "stdout",
     "output_type": "stream",
     "text": [
      "entered string is -  gunwant\n",
      "Length of the string is -  7\n"
     ]
    }
   ],
   "source": [
    "input_string = input(\"Enter a string - \")\n",
    "length_of_string = len(input_string)\n",
    "print(\"entered string is - \", input_string)\n",
    "print(\"Length of the string is - \", length_of_string)"
   ]
  },
  {
   "cell_type": "code",
   "execution_count": 12,
   "id": "6189f4c5-33ce-4460-a255-fc6f6643ad11",
   "metadata": {},
   "outputs": [],
   "source": [
    "# Question 2"
   ]
  },
  {
   "cell_type": "code",
   "execution_count": 36,
   "id": "b60f5e85-5210-489f-83a2-edb179b85767",
   "metadata": {},
   "outputs": [
    {
     "name": "stdin",
     "output_type": "stream",
     "text": [
      "Enter a sentence -  Hello World!\n"
     ]
    },
    {
     "name": "stdout",
     "output_type": "stream",
     "text": [
      "entered sentence is - Hello World!\n",
      "Number of vowels in sentence are -  3\n"
     ]
    }
   ],
   "source": [
    "input_sentence = input(\"Enter a sentence - \")\n",
    "count = 0\n",
    "for char in input_sentence:\n",
    "    if char.lower() in ['a', 'e', 'i', 'o', 'u']:\n",
    "        count += 1\n",
    "print(\"entered sentence is -\", input_sentence)\n",
    "print(\"Number of vowels in sentence are - \", count)"
   ]
  },
  {
   "cell_type": "code",
   "execution_count": 17,
   "id": "4c4baebc-1eb7-4a3f-a607-15cbf584e7cc",
   "metadata": {},
   "outputs": [],
   "source": [
    "# Question 3"
   ]
  },
  {
   "cell_type": "code",
   "execution_count": 37,
   "id": "bfa35e11-81fc-456d-82ad-c535f9a43698",
   "metadata": {},
   "outputs": [
    {
     "name": "stdin",
     "output_type": "stream",
     "text": [
      "Enter a string -  pwskills\n"
     ]
    },
    {
     "name": "stdout",
     "output_type": "stream",
     "text": [
      "entered string is -  pwskills\n",
      "reversed string is -  sllikswp\n"
     ]
    }
   ],
   "source": [
    "input_string = input(\"Enter a string - \")\n",
    "reversed_string = input_string[::-1]\n",
    "print(\"entered string is - \", input_string)\n",
    "print(\"reversed string is - \", reversed_string)"
   ]
  },
  {
   "cell_type": "code",
   "execution_count": 22,
   "id": "da6b1a58-fc54-4f62-b4f1-f479c3f3ba53",
   "metadata": {},
   "outputs": [],
   "source": [
    "# Question 4"
   ]
  },
  {
   "cell_type": "code",
   "execution_count": 38,
   "id": "da593674-8045-4135-87d0-b7ca4dc75163",
   "metadata": {},
   "outputs": [
    {
     "name": "stdin",
     "output_type": "stream",
     "text": [
      "Enter a string -  abbc\n"
     ]
    },
    {
     "name": "stdout",
     "output_type": "stream",
     "text": [
      "entered string is -  abbc\n",
      "entered string is not a palindrome\n"
     ]
    }
   ],
   "source": [
    "input_string = input(\"Enter a string - \")\n",
    "reversed_string = input_string[::-1]\n",
    "is_palindrome = False\n",
    "if reversed_string == input_string:\n",
    "    is_palindrome = True\n",
    "print(\"entered string is - \", input_string)\n",
    "if is_palindrome:\n",
    "    print(\"entered string is palindrome\")\n",
    "else:\n",
    "    print(\"entered string is not a palindrome\")"
   ]
  },
  {
   "cell_type": "code",
   "execution_count": 27,
   "id": "0fd91182-8feb-46f5-95a0-ff4689ce04ec",
   "metadata": {},
   "outputs": [],
   "source": [
    "# Question 5"
   ]
  },
  {
   "cell_type": "code",
   "execution_count": 28,
   "id": "750a6db1-7b5d-4a8d-88b1-9a4a7cc4e027",
   "metadata": {},
   "outputs": [
    {
     "name": "stdin",
     "output_type": "stream",
     "text": [
      "Enter a string -  asc vccv gun want deshmukg h\n"
     ]
    },
    {
     "name": "stdout",
     "output_type": "stream",
     "text": [
      "input string is -  asc vccv gun want deshmukg h\n",
      "modified string is -  ascvccvgunwantdeshmukgh\n"
     ]
    }
   ],
   "source": [
    "input_string = input(\"Enter a string - \")\n",
    "modified_string = input_string.replace(\" \", \"\")\n",
    "print(\"input string is - \", input_string)\n",
    "print(\"modified string is - \", modified_string)"
   ]
  },
  {
   "cell_type": "code",
   "execution_count": null,
   "id": "ec651854-2490-4449-8555-5e229a81d345",
   "metadata": {},
   "outputs": [],
   "source": []
  }
 ],
 "metadata": {
  "kernelspec": {
   "display_name": "Python 3 (ipykernel)",
   "language": "python",
   "name": "python3"
  },
  "language_info": {
   "codemirror_mode": {
    "name": "ipython",
    "version": 3
   },
   "file_extension": ".py",
   "mimetype": "text/x-python",
   "name": "python",
   "nbconvert_exporter": "python",
   "pygments_lexer": "ipython3",
   "version": "3.10.8"
  }
 },
 "nbformat": 4,
 "nbformat_minor": 5
}
